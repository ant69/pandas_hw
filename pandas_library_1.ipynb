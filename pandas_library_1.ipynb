{
 "cells": [
  {
   "cell_type": "markdown",
   "metadata": {
    "id": "eI2mjg8wAHBr"
   },
   "source": [
    "## Задание 1\n",
    "\n",
    "Скачайте с сайта [grouplens.org...movielens/](https://grouplens.org/datasets/movielens/) датасет любого размера. Определите какому фильму было выставлено больше всего оценок 5.0."
   ]
  },
  {
   "cell_type": "markdown",
   "metadata": {
    "id": "rHitrvE_AYCC"
   },
   "source": [
    "___\n",
    "## Решение задания 1\n",
    "Скачан файл https://files.grouplens.org/datasets/movielens/ml-10m.zip\n",
    "\n",
    "MovieLens 10M movie ratings. Stable benchmark dataset. 10 million ratings and 100,000 tag applications applied to 10,000 movies by 72,000 users. Released 1/2009."
   ]
  },
  {
   "cell_type": "code",
   "execution_count": 88,
   "metadata": {
    "id": "YLHHt-ZZAFlY"
   },
   "outputs": [
    {
     "name": "stdout",
     "output_type": "stream",
     "text": [
      "Название самого популярного фильма с рейтингом 5.0 - Shawshank Redemption, The (1994)\n",
      "Количество оценок: 153\n"
     ]
    }
   ],
   "source": [
    "import pandas as pd\n",
    "ratings_dataset = pd.read_csv('ml-latest-small/ratings.csv', engine='python')\n",
    "filtered_rating = ratings_dataset[ ratings_dataset.rating == 5.0]\n",
    "most_popular_film = filtered_rating['movieId'].value_counts()[:1]\n",
    "\n",
    "movies_dataset = pd.read_csv('ml-latest-small/movies.csv', engine='python')\n",
    "most_popular_movie = movies_dataset[ movies_dataset.movieId == most_popular_film.index[0]]\n",
    "film_title = list(most_popular_movie.title)[0]\n",
    "print(f'Название самого популярного фильма с рейтингом 5.0 - {film_title}\\nКоличество оценок: {list(most_popular_film)[0]}')\n"
   ]
  },
  {
   "cell_type": "markdown",
   "metadata": {
    "id": "fEtHKb_9Acnq"
   },
   "source": [
    "## Задание 2\n",
    "\n",
    "По данным файла power.csv посчитайте суммарное потребление стран Прибалтики (Латвия, Литва и Эстония) категорий 4, 12 и 21 за период с 2005 по 2010 года. Не учитывайте в расчетах отрицательные значения quantity."
   ]
  },
  {
   "cell_type": "markdown",
   "metadata": {
    "id": "WLId1I2wAisJ"
   },
   "source": [
    "___\n",
    "## Решение задания 2"
   ]
  },
  {
   "cell_type": "code",
   "execution_count": 116,
   "metadata": {
    "id": "hMCJuXhkAm6i"
   },
   "outputs": [
    {
     "data": {
      "text/plain": [
       "201719.0"
      ]
     },
     "execution_count": 116,
     "metadata": {},
     "output_type": "execute_result"
    }
   ],
   "source": [
    "import pandas as pd\n",
    "file_data = pd.read_csv('power.csv', engine='python')\n",
    "filter_sql = \"country in ['Latvia', 'Estonia', 'Lithuania'] \\\n",
    "            and year > 2004 and year < 2010 \\\n",
    "            and category in [4, 12, 21] \\\n",
    "            and quantity > 0\"\n",
    "file_data.query(filter_sql).quantity.sum()  \n"
   ]
  },
  {
   "cell_type": "markdown",
   "metadata": {
    "id": "nXyTykd-Anax"
   },
   "source": [
    "## Задание 3\n",
    "\n",
    "Выберите страницу любого сайта с табличными данными. Импортируйте таблицы в pandas dataframe.\n",
    "Примеры страниц (необязательно брать именно эти):\n",
    "https://fortrader.org/quotes\n",
    "www.finanz.ru...om-vremeni"
   ]
  },
  {
   "cell_type": "markdown",
   "metadata": {
    "id": "FUkKGNiRAvLU"
   },
   "source": [
    "___\n",
    "## Решение задания 3"
   ]
  },
  {
   "cell_type": "code",
   "execution_count": 127,
   "metadata": {
    "id": "dagBGC30Ays7"
   },
   "outputs": [
    {
     "data": {
      "text/html": [
       "<div>\n",
       "<style scoped>\n",
       "    .dataframe tbody tr th:only-of-type {\n",
       "        vertical-align: middle;\n",
       "    }\n",
       "\n",
       "    .dataframe tbody tr th {\n",
       "        vertical-align: top;\n",
       "    }\n",
       "\n",
       "    .dataframe thead th {\n",
       "        text-align: right;\n",
       "    }\n",
       "</style>\n",
       "<table border=\"1\" class=\"dataframe\">\n",
       "  <thead>\n",
       "    <tr style=\"text-align: right;\">\n",
       "      <th></th>\n",
       "      <th>№</th>\n",
       "      <th>Unnamed: 1</th>\n",
       "      <th>Название</th>\n",
       "      <th>Тикер</th>\n",
       "      <th>Unnamed: 4</th>\n",
       "      <th>Unnamed: 5</th>\n",
       "      <th>Unnamed: 6</th>\n",
       "      <th>Цена, посл</th>\n",
       "      <th>Изм, %</th>\n",
       "      <th>Объем, млн руб</th>\n",
       "      <th>1 нед, %</th>\n",
       "      <th>1 м, %</th>\n",
       "      <th>ytd, %</th>\n",
       "      <th>12м, %</th>\n",
       "      <th>Капит-я млрд руб</th>\n",
       "      <th>Капит-я млрд $</th>\n",
       "      <th>ИзмОбъема</th>\n",
       "      <th>Изм позпо Объему</th>\n",
       "      <th>Unnamed: 18</th>\n",
       "      <th>Unnamed: 19</th>\n",
       "    </tr>\n",
       "  </thead>\n",
       "  <tbody>\n",
       "    <tr>\n",
       "      <th>0</th>\n",
       "      <td>NaN</td>\n",
       "      <td>18:51:01</td>\n",
       "      <td>Индекс ММВБ</td>\n",
       "      <td>IMOEX</td>\n",
       "      <td>NaN</td>\n",
       "      <td>NaN</td>\n",
       "      <td>NaN</td>\n",
       "      <td>3913.06</td>\n",
       "      <td>-0.87%</td>\n",
       "      <td>83 004.67</td>\n",
       "      <td>+2.7%</td>\n",
       "      <td>-6.5%</td>\n",
       "      <td>+19.0%</td>\n",
       "      <td>+22.9%</td>\n",
       "      <td>68 170.30</td>\n",
       "      <td>924.44</td>\n",
       "      <td>-23%</td>\n",
       "      <td>—</td>\n",
       "      <td>—</td>\n",
       "      <td>—</td>\n",
       "    </tr>\n",
       "    <tr>\n",
       "      <th>1</th>\n",
       "      <td>1.0</td>\n",
       "      <td>18:45:54</td>\n",
       "      <td>ГАЗПРОМ ао</td>\n",
       "      <td>GAZP</td>\n",
       "      <td>NaN</td>\n",
       "      <td>NaN</td>\n",
       "      <td>NaN</td>\n",
       "      <td>346.54</td>\n",
       "      <td>-1.07%</td>\n",
       "      <td>15 137.24</td>\n",
       "      <td>+5.7%</td>\n",
       "      <td>-1.2%</td>\n",
       "      <td>+63.0%</td>\n",
       "      <td>+83.5%</td>\n",
       "      <td>8 203.82</td>\n",
       "      <td>111.25</td>\n",
       "      <td>-34%</td>\n",
       "      <td>NaN</td>\n",
       "      <td>+</td>\n",
       "      <td>+</td>\n",
       "    </tr>\n",
       "    <tr>\n",
       "      <th>2</th>\n",
       "      <td>2.0</td>\n",
       "      <td>18:45:29</td>\n",
       "      <td>Сбербанк</td>\n",
       "      <td>SBER</td>\n",
       "      <td>NaN</td>\n",
       "      <td>NaN</td>\n",
       "      <td>NaN</td>\n",
       "      <td>320.34</td>\n",
       "      <td>-1.98%</td>\n",
       "      <td>12 030.43</td>\n",
       "      <td>+5.3%</td>\n",
       "      <td>-13.1%</td>\n",
       "      <td>+18.2%</td>\n",
       "      <td>+18.7%</td>\n",
       "      <td>7 211.16</td>\n",
       "      <td>97.79</td>\n",
       "      <td>-30%</td>\n",
       "      <td>NaN</td>\n",
       "      <td>+</td>\n",
       "      <td>+</td>\n",
       "    </tr>\n",
       "    <tr>\n",
       "      <th>3</th>\n",
       "      <td>3.0</td>\n",
       "      <td>18:45:56</td>\n",
       "      <td>ЛУКОЙЛ</td>\n",
       "      <td>LKOH</td>\n",
       "      <td>NaN</td>\n",
       "      <td>NaN</td>\n",
       "      <td>NaN</td>\n",
       "      <td>6668.00</td>\n",
       "      <td>-0.95%</td>\n",
       "      <td>4 678.12</td>\n",
       "      <td>+4.1%</td>\n",
       "      <td>-6.6%</td>\n",
       "      <td>+28.7%</td>\n",
       "      <td>+30.0%</td>\n",
       "      <td>4 620.03</td>\n",
       "      <td>62.65</td>\n",
       "      <td>-44%</td>\n",
       "      <td>NaN</td>\n",
       "      <td>+</td>\n",
       "      <td>+</td>\n",
       "    </tr>\n",
       "    <tr>\n",
       "      <th>4</th>\n",
       "      <td>4.0</td>\n",
       "      <td>18:45:40</td>\n",
       "      <td>НЛМК ао</td>\n",
       "      <td>NLMK</td>\n",
       "      <td>NaN</td>\n",
       "      <td>NaN</td>\n",
       "      <td>NaN</td>\n",
       "      <td>219.50</td>\n",
       "      <td>+0.53%</td>\n",
       "      <td>4 214.79</td>\n",
       "      <td>+0.7%</td>\n",
       "      <td>-1.5%</td>\n",
       "      <td>+5.0%</td>\n",
       "      <td>+14.4%</td>\n",
       "      <td>1 315.51</td>\n",
       "      <td>17.84</td>\n",
       "      <td>+86%</td>\n",
       "      <td>+9</td>\n",
       "      <td>+</td>\n",
       "      <td>+</td>\n",
       "    </tr>\n",
       "  </tbody>\n",
       "</table>\n",
       "</div>"
      ],
      "text/plain": [
       "     № Unnamed: 1     Название  Тикер  Unnamed: 4  Unnamed: 5  Unnamed: 6  \\\n",
       "0  NaN   18:51:01  Индекс ММВБ  IMOEX         NaN         NaN         NaN   \n",
       "1  1.0   18:45:54   ГАЗПРОМ ао   GAZP         NaN         NaN         NaN   \n",
       "2  2.0   18:45:29     Сбербанк   SBER         NaN         NaN         NaN   \n",
       "3  3.0   18:45:56       ЛУКОЙЛ   LKOH         NaN         NaN         NaN   \n",
       "4  4.0   18:45:40      НЛМК ао   NLMK         NaN         NaN         NaN   \n",
       "\n",
       "   Цена, посл  Изм, % Объем, млн руб 1 нед, %  1 м, %  ytd, %  12м, %  \\\n",
       "0     3913.06  -0.87%      83 004.67    +2.7%   -6.5%  +19.0%  +22.9%   \n",
       "1      346.54  -1.07%      15 137.24    +5.7%   -1.2%  +63.0%  +83.5%   \n",
       "2      320.34  -1.98%      12 030.43    +5.3%  -13.1%  +18.2%  +18.7%   \n",
       "3     6668.00  -0.95%       4 678.12    +4.1%   -6.6%  +28.7%  +30.0%   \n",
       "4      219.50  +0.53%       4 214.79    +0.7%   -1.5%   +5.0%  +14.4%   \n",
       "\n",
       "  Капит-я млрд руб  Капит-я млрд $ ИзмОбъема Изм позпо Объему Unnamed: 18  \\\n",
       "0        68 170.30          924.44      -23%                —           —   \n",
       "1         8 203.82          111.25      -34%              NaN           +   \n",
       "2         7 211.16           97.79      -30%              NaN           +   \n",
       "3         4 620.03           62.65      -44%              NaN           +   \n",
       "4         1 315.51           17.84      +86%               +9           +   \n",
       "\n",
       "  Unnamed: 19  \n",
       "0           —  \n",
       "1           +  \n",
       "2           +  \n",
       "3           +  \n",
       "4           +  "
      ]
     },
     "execution_count": 127,
     "metadata": {},
     "output_type": "execute_result"
    }
   ],
   "source": [
    "# Берем данные отсюда: https://smart-lab.ru/q/shares/\n",
    "import pandas as pd\n",
    "f_states = pd.read_html('https://smart-lab.ru/q/shares/')[0] \n",
    "f_states.head(5)\n"
   ]
  }
 ],
 "metadata": {
  "colab": {
   "authorship_tag": "ABX9TyMxSKeTG6MuFpXpqlB02W2X",
   "include_colab_link": true,
   "name": "Untitled8.ipynb",
   "provenance": []
  },
  "kernelspec": {
   "display_name": "Python 3",
   "language": "python",
   "name": "python3"
  },
  "language_info": {
   "codemirror_mode": {
    "name": "ipython",
    "version": 3
   },
   "file_extension": ".py",
   "mimetype": "text/x-python",
   "name": "python",
   "nbconvert_exporter": "python",
   "pygments_lexer": "ipython3",
   "version": "3.8.8"
  }
 },
 "nbformat": 4,
 "nbformat_minor": 1
}
